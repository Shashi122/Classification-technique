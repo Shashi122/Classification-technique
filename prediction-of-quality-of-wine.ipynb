{
 "cells": [
  {
   "cell_type": "code",
   "execution_count": 1,
   "metadata": {
    "_cell_guid": "b1076dfc-b9ad-4769-8c92-a6c4dae69d19",
    "_uuid": "8f2839f25d086af736a60e9eeb907d3b93b6e0e5",
    "execution": {
     "iopub.execute_input": "2021-02-03T07:23:52.966521Z",
     "iopub.status.busy": "2021-02-03T07:23:52.965830Z",
     "iopub.status.idle": "2021-02-03T07:23:52.969843Z",
     "shell.execute_reply": "2021-02-03T07:23:52.970351Z"
    },
    "papermill": {
     "duration": 0.043231,
     "end_time": "2021-02-03T07:23:52.970533",
     "exception": false,
     "start_time": "2021-02-03T07:23:52.927302",
     "status": "completed"
    },
    "tags": []
   },
   "outputs": [],
   "source": [
    "import numpy as np\n",
    "import matplotlib.pyplot as plt\n",
    "import pandas as pd"
   ]
  },
  {
   "cell_type": "code",
   "execution_count": 2,
   "metadata": {
    "execution": {
     "iopub.execute_input": "2021-02-03T07:23:53.042783Z",
     "iopub.status.busy": "2021-02-03T07:23:53.042117Z",
     "iopub.status.idle": "2021-02-03T07:23:53.046004Z",
     "shell.execute_reply": "2021-02-03T07:23:53.046466Z"
    },
    "papermill": {
     "duration": 0.041119,
     "end_time": "2021-02-03T07:23:53.046639",
     "exception": false,
     "start_time": "2021-02-03T07:23:53.005520",
     "status": "completed"
    },
    "tags": []
   },
   "outputs": [],
   "source": [
    "pd.set_option('display.max_rows', 200)\n",
    "pd.set_option('display.max_columns', None)"
   ]
  },
  {
   "cell_type": "code",
   "execution_count": 3,
   "metadata": {
    "execution": {
     "iopub.execute_input": "2021-02-03T07:23:53.116926Z",
     "iopub.status.busy": "2021-02-03T07:23:53.116132Z",
     "iopub.status.idle": "2021-02-03T07:23:53.170121Z",
     "shell.execute_reply": "2021-02-03T07:23:53.169399Z"
    },
    "papermill": {
     "duration": 0.090061,
     "end_time": "2021-02-03T07:23:53.170242",
     "exception": false,
     "start_time": "2021-02-03T07:23:53.080181",
     "status": "completed"
    },
    "tags": []
   },
   "outputs": [
    {
     "data": {
      "text/html": [
       "<div>\n",
       "<style scoped>\n",
       "    .dataframe tbody tr th:only-of-type {\n",
       "        vertical-align: middle;\n",
       "    }\n",
       "\n",
       "    .dataframe tbody tr th {\n",
       "        vertical-align: top;\n",
       "    }\n",
       "\n",
       "    .dataframe thead th {\n",
       "        text-align: right;\n",
       "    }\n",
       "</style>\n",
       "<table border=\"1\" class=\"dataframe\">\n",
       "  <thead>\n",
       "    <tr style=\"text-align: right;\">\n",
       "      <th></th>\n",
       "      <th>fixed acidity</th>\n",
       "      <th>volatile acidity</th>\n",
       "      <th>citric acid</th>\n",
       "      <th>residual sugar</th>\n",
       "      <th>chlorides</th>\n",
       "      <th>free sulfur dioxide</th>\n",
       "      <th>total sulfur dioxide</th>\n",
       "      <th>density</th>\n",
       "      <th>pH</th>\n",
       "      <th>sulphates</th>\n",
       "      <th>alcohol</th>\n",
       "      <th>quality</th>\n",
       "    </tr>\n",
       "  </thead>\n",
       "  <tbody>\n",
       "    <tr>\n",
       "      <th>0</th>\n",
       "      <td>7.4</td>\n",
       "      <td>0.700</td>\n",
       "      <td>0.00</td>\n",
       "      <td>1.9</td>\n",
       "      <td>0.076</td>\n",
       "      <td>11.0</td>\n",
       "      <td>34.0</td>\n",
       "      <td>0.99780</td>\n",
       "      <td>3.51</td>\n",
       "      <td>0.56</td>\n",
       "      <td>9.4</td>\n",
       "      <td>5</td>\n",
       "    </tr>\n",
       "    <tr>\n",
       "      <th>1</th>\n",
       "      <td>7.8</td>\n",
       "      <td>0.880</td>\n",
       "      <td>0.00</td>\n",
       "      <td>2.6</td>\n",
       "      <td>0.098</td>\n",
       "      <td>25.0</td>\n",
       "      <td>67.0</td>\n",
       "      <td>0.99680</td>\n",
       "      <td>3.20</td>\n",
       "      <td>0.68</td>\n",
       "      <td>9.8</td>\n",
       "      <td>5</td>\n",
       "    </tr>\n",
       "    <tr>\n",
       "      <th>2</th>\n",
       "      <td>7.8</td>\n",
       "      <td>0.760</td>\n",
       "      <td>0.04</td>\n",
       "      <td>2.3</td>\n",
       "      <td>0.092</td>\n",
       "      <td>15.0</td>\n",
       "      <td>54.0</td>\n",
       "      <td>0.99700</td>\n",
       "      <td>3.26</td>\n",
       "      <td>0.65</td>\n",
       "      <td>9.8</td>\n",
       "      <td>5</td>\n",
       "    </tr>\n",
       "    <tr>\n",
       "      <th>3</th>\n",
       "      <td>11.2</td>\n",
       "      <td>0.280</td>\n",
       "      <td>0.56</td>\n",
       "      <td>1.9</td>\n",
       "      <td>0.075</td>\n",
       "      <td>17.0</td>\n",
       "      <td>60.0</td>\n",
       "      <td>0.99800</td>\n",
       "      <td>3.16</td>\n",
       "      <td>0.58</td>\n",
       "      <td>9.8</td>\n",
       "      <td>6</td>\n",
       "    </tr>\n",
       "    <tr>\n",
       "      <th>4</th>\n",
       "      <td>7.4</td>\n",
       "      <td>0.700</td>\n",
       "      <td>0.00</td>\n",
       "      <td>1.9</td>\n",
       "      <td>0.076</td>\n",
       "      <td>11.0</td>\n",
       "      <td>34.0</td>\n",
       "      <td>0.99780</td>\n",
       "      <td>3.51</td>\n",
       "      <td>0.56</td>\n",
       "      <td>9.4</td>\n",
       "      <td>5</td>\n",
       "    </tr>\n",
       "    <tr>\n",
       "      <th>...</th>\n",
       "      <td>...</td>\n",
       "      <td>...</td>\n",
       "      <td>...</td>\n",
       "      <td>...</td>\n",
       "      <td>...</td>\n",
       "      <td>...</td>\n",
       "      <td>...</td>\n",
       "      <td>...</td>\n",
       "      <td>...</td>\n",
       "      <td>...</td>\n",
       "      <td>...</td>\n",
       "      <td>...</td>\n",
       "    </tr>\n",
       "    <tr>\n",
       "      <th>1594</th>\n",
       "      <td>6.2</td>\n",
       "      <td>0.600</td>\n",
       "      <td>0.08</td>\n",
       "      <td>2.0</td>\n",
       "      <td>0.090</td>\n",
       "      <td>32.0</td>\n",
       "      <td>44.0</td>\n",
       "      <td>0.99490</td>\n",
       "      <td>3.45</td>\n",
       "      <td>0.58</td>\n",
       "      <td>10.5</td>\n",
       "      <td>5</td>\n",
       "    </tr>\n",
       "    <tr>\n",
       "      <th>1595</th>\n",
       "      <td>5.9</td>\n",
       "      <td>0.550</td>\n",
       "      <td>0.10</td>\n",
       "      <td>2.2</td>\n",
       "      <td>0.062</td>\n",
       "      <td>39.0</td>\n",
       "      <td>51.0</td>\n",
       "      <td>0.99512</td>\n",
       "      <td>3.52</td>\n",
       "      <td>0.76</td>\n",
       "      <td>11.2</td>\n",
       "      <td>6</td>\n",
       "    </tr>\n",
       "    <tr>\n",
       "      <th>1596</th>\n",
       "      <td>6.3</td>\n",
       "      <td>0.510</td>\n",
       "      <td>0.13</td>\n",
       "      <td>2.3</td>\n",
       "      <td>0.076</td>\n",
       "      <td>29.0</td>\n",
       "      <td>40.0</td>\n",
       "      <td>0.99574</td>\n",
       "      <td>3.42</td>\n",
       "      <td>0.75</td>\n",
       "      <td>11.0</td>\n",
       "      <td>6</td>\n",
       "    </tr>\n",
       "    <tr>\n",
       "      <th>1597</th>\n",
       "      <td>5.9</td>\n",
       "      <td>0.645</td>\n",
       "      <td>0.12</td>\n",
       "      <td>2.0</td>\n",
       "      <td>0.075</td>\n",
       "      <td>32.0</td>\n",
       "      <td>44.0</td>\n",
       "      <td>0.99547</td>\n",
       "      <td>3.57</td>\n",
       "      <td>0.71</td>\n",
       "      <td>10.2</td>\n",
       "      <td>5</td>\n",
       "    </tr>\n",
       "    <tr>\n",
       "      <th>1598</th>\n",
       "      <td>6.0</td>\n",
       "      <td>0.310</td>\n",
       "      <td>0.47</td>\n",
       "      <td>3.6</td>\n",
       "      <td>0.067</td>\n",
       "      <td>18.0</td>\n",
       "      <td>42.0</td>\n",
       "      <td>0.99549</td>\n",
       "      <td>3.39</td>\n",
       "      <td>0.66</td>\n",
       "      <td>11.0</td>\n",
       "      <td>6</td>\n",
       "    </tr>\n",
       "  </tbody>\n",
       "</table>\n",
       "<p>1599 rows × 12 columns</p>\n",
       "</div>"
      ],
      "text/plain": [
       "      fixed acidity  volatile acidity  citric acid  residual sugar  chlorides  \\\n",
       "0               7.4             0.700         0.00             1.9      0.076   \n",
       "1               7.8             0.880         0.00             2.6      0.098   \n",
       "2               7.8             0.760         0.04             2.3      0.092   \n",
       "3              11.2             0.280         0.56             1.9      0.075   \n",
       "4               7.4             0.700         0.00             1.9      0.076   \n",
       "...             ...               ...          ...             ...        ...   \n",
       "1594            6.2             0.600         0.08             2.0      0.090   \n",
       "1595            5.9             0.550         0.10             2.2      0.062   \n",
       "1596            6.3             0.510         0.13             2.3      0.076   \n",
       "1597            5.9             0.645         0.12             2.0      0.075   \n",
       "1598            6.0             0.310         0.47             3.6      0.067   \n",
       "\n",
       "      free sulfur dioxide  total sulfur dioxide  density    pH  sulphates  \\\n",
       "0                    11.0                  34.0  0.99780  3.51       0.56   \n",
       "1                    25.0                  67.0  0.99680  3.20       0.68   \n",
       "2                    15.0                  54.0  0.99700  3.26       0.65   \n",
       "3                    17.0                  60.0  0.99800  3.16       0.58   \n",
       "4                    11.0                  34.0  0.99780  3.51       0.56   \n",
       "...                   ...                   ...      ...   ...        ...   \n",
       "1594                 32.0                  44.0  0.99490  3.45       0.58   \n",
       "1595                 39.0                  51.0  0.99512  3.52       0.76   \n",
       "1596                 29.0                  40.0  0.99574  3.42       0.75   \n",
       "1597                 32.0                  44.0  0.99547  3.57       0.71   \n",
       "1598                 18.0                  42.0  0.99549  3.39       0.66   \n",
       "\n",
       "      alcohol  quality  \n",
       "0         9.4        5  \n",
       "1         9.8        5  \n",
       "2         9.8        5  \n",
       "3         9.8        6  \n",
       "4         9.4        5  \n",
       "...       ...      ...  \n",
       "1594     10.5        5  \n",
       "1595     11.2        6  \n",
       "1596     11.0        6  \n",
       "1597     10.2        5  \n",
       "1598     11.0        6  \n",
       "\n",
       "[1599 rows x 12 columns]"
      ]
     },
     "execution_count": 3,
     "metadata": {},
     "output_type": "execute_result"
    }
   ],
   "source": [
    "df=pd.read_csv('../input/datasets_4458_8204_winequality-red.csv')\n",
    "df"
   ]
  },
  {
   "cell_type": "code",
   "execution_count": 4,
   "metadata": {
    "_cell_guid": "79c7e3d0-c299-4dcb-8224-4455121ee9b0",
    "_uuid": "d629ff2d2480ee46fbb7e2d37f6b5fab8052498a",
    "execution": {
     "iopub.execute_input": "2021-02-03T07:23:53.245170Z",
     "iopub.status.busy": "2021-02-03T07:23:53.244453Z",
     "iopub.status.idle": "2021-02-03T07:23:53.252397Z",
     "shell.execute_reply": "2021-02-03T07:23:53.251779Z"
    },
    "papermill": {
     "duration": 0.046733,
     "end_time": "2021-02-03T07:23:53.252503",
     "exception": false,
     "start_time": "2021-02-03T07:23:53.205770",
     "status": "completed"
    },
    "tags": []
   },
   "outputs": [
    {
     "data": {
      "text/plain": [
       "fixed acidity           0\n",
       "volatile acidity        0\n",
       "citric acid             0\n",
       "residual sugar          0\n",
       "chlorides               0\n",
       "free sulfur dioxide     0\n",
       "total sulfur dioxide    0\n",
       "density                 0\n",
       "pH                      0\n",
       "sulphates               0\n",
       "alcohol                 0\n",
       "quality                 0\n",
       "dtype: int64"
      ]
     },
     "execution_count": 4,
     "metadata": {},
     "output_type": "execute_result"
    }
   ],
   "source": [
    "#Checking of missing values\n",
    "df.isnull().sum()"
   ]
  },
  {
   "cell_type": "code",
   "execution_count": 5,
   "metadata": {
    "execution": {
     "iopub.execute_input": "2021-02-03T07:23:53.331430Z",
     "iopub.status.busy": "2021-02-03T07:23:53.327084Z",
     "iopub.status.idle": "2021-02-03T07:23:53.351641Z",
     "shell.execute_reply": "2021-02-03T07:23:53.352158Z"
    },
    "papermill": {
     "duration": 0.065597,
     "end_time": "2021-02-03T07:23:53.352297",
     "exception": false,
     "start_time": "2021-02-03T07:23:53.286700",
     "status": "completed"
    },
    "tags": []
   },
   "outputs": [
    {
     "data": {
      "text/html": [
       "<div>\n",
       "<style scoped>\n",
       "    .dataframe tbody tr th:only-of-type {\n",
       "        vertical-align: middle;\n",
       "    }\n",
       "\n",
       "    .dataframe tbody tr th {\n",
       "        vertical-align: top;\n",
       "    }\n",
       "\n",
       "    .dataframe thead th {\n",
       "        text-align: right;\n",
       "    }\n",
       "</style>\n",
       "<table border=\"1\" class=\"dataframe\">\n",
       "  <thead>\n",
       "    <tr style=\"text-align: right;\">\n",
       "      <th></th>\n",
       "      <th>fixed acidity</th>\n",
       "      <th>volatile acidity</th>\n",
       "      <th>citric acid</th>\n",
       "      <th>residual sugar</th>\n",
       "      <th>chlorides</th>\n",
       "      <th>free sulfur dioxide</th>\n",
       "      <th>total sulfur dioxide</th>\n",
       "      <th>density</th>\n",
       "      <th>pH</th>\n",
       "      <th>sulphates</th>\n",
       "      <th>alcohol</th>\n",
       "      <th>quality</th>\n",
       "    </tr>\n",
       "  </thead>\n",
       "  <tbody>\n",
       "    <tr>\n",
       "      <th>fixed acidity</th>\n",
       "      <td>1.000000</td>\n",
       "      <td>-0.256131</td>\n",
       "      <td>0.671703</td>\n",
       "      <td>0.114777</td>\n",
       "      <td>0.093705</td>\n",
       "      <td>-0.153794</td>\n",
       "      <td>-0.113181</td>\n",
       "      <td>0.668047</td>\n",
       "      <td>-0.682978</td>\n",
       "      <td>0.183006</td>\n",
       "      <td>-0.061668</td>\n",
       "      <td>0.124052</td>\n",
       "    </tr>\n",
       "    <tr>\n",
       "      <th>volatile acidity</th>\n",
       "      <td>-0.256131</td>\n",
       "      <td>1.000000</td>\n",
       "      <td>-0.552496</td>\n",
       "      <td>0.001918</td>\n",
       "      <td>0.061298</td>\n",
       "      <td>-0.010504</td>\n",
       "      <td>0.076470</td>\n",
       "      <td>0.022026</td>\n",
       "      <td>0.234937</td>\n",
       "      <td>-0.260987</td>\n",
       "      <td>-0.202288</td>\n",
       "      <td>-0.390558</td>\n",
       "    </tr>\n",
       "    <tr>\n",
       "      <th>citric acid</th>\n",
       "      <td>0.671703</td>\n",
       "      <td>-0.552496</td>\n",
       "      <td>1.000000</td>\n",
       "      <td>0.143577</td>\n",
       "      <td>0.203823</td>\n",
       "      <td>-0.060978</td>\n",
       "      <td>0.035533</td>\n",
       "      <td>0.364947</td>\n",
       "      <td>-0.541904</td>\n",
       "      <td>0.312770</td>\n",
       "      <td>0.109903</td>\n",
       "      <td>0.226373</td>\n",
       "    </tr>\n",
       "    <tr>\n",
       "      <th>residual sugar</th>\n",
       "      <td>0.114777</td>\n",
       "      <td>0.001918</td>\n",
       "      <td>0.143577</td>\n",
       "      <td>1.000000</td>\n",
       "      <td>0.055610</td>\n",
       "      <td>0.187049</td>\n",
       "      <td>0.203028</td>\n",
       "      <td>0.355283</td>\n",
       "      <td>-0.085652</td>\n",
       "      <td>0.005527</td>\n",
       "      <td>0.042075</td>\n",
       "      <td>0.013732</td>\n",
       "    </tr>\n",
       "    <tr>\n",
       "      <th>chlorides</th>\n",
       "      <td>0.093705</td>\n",
       "      <td>0.061298</td>\n",
       "      <td>0.203823</td>\n",
       "      <td>0.055610</td>\n",
       "      <td>1.000000</td>\n",
       "      <td>0.005562</td>\n",
       "      <td>0.047400</td>\n",
       "      <td>0.200632</td>\n",
       "      <td>-0.265026</td>\n",
       "      <td>0.371260</td>\n",
       "      <td>-0.221141</td>\n",
       "      <td>-0.128907</td>\n",
       "    </tr>\n",
       "    <tr>\n",
       "      <th>free sulfur dioxide</th>\n",
       "      <td>-0.153794</td>\n",
       "      <td>-0.010504</td>\n",
       "      <td>-0.060978</td>\n",
       "      <td>0.187049</td>\n",
       "      <td>0.005562</td>\n",
       "      <td>1.000000</td>\n",
       "      <td>0.667666</td>\n",
       "      <td>-0.021946</td>\n",
       "      <td>0.070377</td>\n",
       "      <td>0.051658</td>\n",
       "      <td>-0.069408</td>\n",
       "      <td>-0.050656</td>\n",
       "    </tr>\n",
       "    <tr>\n",
       "      <th>total sulfur dioxide</th>\n",
       "      <td>-0.113181</td>\n",
       "      <td>0.076470</td>\n",
       "      <td>0.035533</td>\n",
       "      <td>0.203028</td>\n",
       "      <td>0.047400</td>\n",
       "      <td>0.667666</td>\n",
       "      <td>1.000000</td>\n",
       "      <td>0.071269</td>\n",
       "      <td>-0.066495</td>\n",
       "      <td>0.042947</td>\n",
       "      <td>-0.205654</td>\n",
       "      <td>-0.185100</td>\n",
       "    </tr>\n",
       "    <tr>\n",
       "      <th>density</th>\n",
       "      <td>0.668047</td>\n",
       "      <td>0.022026</td>\n",
       "      <td>0.364947</td>\n",
       "      <td>0.355283</td>\n",
       "      <td>0.200632</td>\n",
       "      <td>-0.021946</td>\n",
       "      <td>0.071269</td>\n",
       "      <td>1.000000</td>\n",
       "      <td>-0.341699</td>\n",
       "      <td>0.148506</td>\n",
       "      <td>-0.496180</td>\n",
       "      <td>-0.174919</td>\n",
       "    </tr>\n",
       "    <tr>\n",
       "      <th>pH</th>\n",
       "      <td>-0.682978</td>\n",
       "      <td>0.234937</td>\n",
       "      <td>-0.541904</td>\n",
       "      <td>-0.085652</td>\n",
       "      <td>-0.265026</td>\n",
       "      <td>0.070377</td>\n",
       "      <td>-0.066495</td>\n",
       "      <td>-0.341699</td>\n",
       "      <td>1.000000</td>\n",
       "      <td>-0.196648</td>\n",
       "      <td>0.205633</td>\n",
       "      <td>-0.057731</td>\n",
       "    </tr>\n",
       "    <tr>\n",
       "      <th>sulphates</th>\n",
       "      <td>0.183006</td>\n",
       "      <td>-0.260987</td>\n",
       "      <td>0.312770</td>\n",
       "      <td>0.005527</td>\n",
       "      <td>0.371260</td>\n",
       "      <td>0.051658</td>\n",
       "      <td>0.042947</td>\n",
       "      <td>0.148506</td>\n",
       "      <td>-0.196648</td>\n",
       "      <td>1.000000</td>\n",
       "      <td>0.093595</td>\n",
       "      <td>0.251397</td>\n",
       "    </tr>\n",
       "    <tr>\n",
       "      <th>alcohol</th>\n",
       "      <td>-0.061668</td>\n",
       "      <td>-0.202288</td>\n",
       "      <td>0.109903</td>\n",
       "      <td>0.042075</td>\n",
       "      <td>-0.221141</td>\n",
       "      <td>-0.069408</td>\n",
       "      <td>-0.205654</td>\n",
       "      <td>-0.496180</td>\n",
       "      <td>0.205633</td>\n",
       "      <td>0.093595</td>\n",
       "      <td>1.000000</td>\n",
       "      <td>0.476166</td>\n",
       "    </tr>\n",
       "    <tr>\n",
       "      <th>quality</th>\n",
       "      <td>0.124052</td>\n",
       "      <td>-0.390558</td>\n",
       "      <td>0.226373</td>\n",
       "      <td>0.013732</td>\n",
       "      <td>-0.128907</td>\n",
       "      <td>-0.050656</td>\n",
       "      <td>-0.185100</td>\n",
       "      <td>-0.174919</td>\n",
       "      <td>-0.057731</td>\n",
       "      <td>0.251397</td>\n",
       "      <td>0.476166</td>\n",
       "      <td>1.000000</td>\n",
       "    </tr>\n",
       "  </tbody>\n",
       "</table>\n",
       "</div>"
      ],
      "text/plain": [
       "                      fixed acidity  volatile acidity  citric acid  \\\n",
       "fixed acidity              1.000000         -0.256131     0.671703   \n",
       "volatile acidity          -0.256131          1.000000    -0.552496   \n",
       "citric acid                0.671703         -0.552496     1.000000   \n",
       "residual sugar             0.114777          0.001918     0.143577   \n",
       "chlorides                  0.093705          0.061298     0.203823   \n",
       "free sulfur dioxide       -0.153794         -0.010504    -0.060978   \n",
       "total sulfur dioxide      -0.113181          0.076470     0.035533   \n",
       "density                    0.668047          0.022026     0.364947   \n",
       "pH                        -0.682978          0.234937    -0.541904   \n",
       "sulphates                  0.183006         -0.260987     0.312770   \n",
       "alcohol                   -0.061668         -0.202288     0.109903   \n",
       "quality                    0.124052         -0.390558     0.226373   \n",
       "\n",
       "                      residual sugar  chlorides  free sulfur dioxide  \\\n",
       "fixed acidity               0.114777   0.093705            -0.153794   \n",
       "volatile acidity            0.001918   0.061298            -0.010504   \n",
       "citric acid                 0.143577   0.203823            -0.060978   \n",
       "residual sugar              1.000000   0.055610             0.187049   \n",
       "chlorides                   0.055610   1.000000             0.005562   \n",
       "free sulfur dioxide         0.187049   0.005562             1.000000   \n",
       "total sulfur dioxide        0.203028   0.047400             0.667666   \n",
       "density                     0.355283   0.200632            -0.021946   \n",
       "pH                         -0.085652  -0.265026             0.070377   \n",
       "sulphates                   0.005527   0.371260             0.051658   \n",
       "alcohol                     0.042075  -0.221141            -0.069408   \n",
       "quality                     0.013732  -0.128907            -0.050656   \n",
       "\n",
       "                      total sulfur dioxide   density        pH  sulphates  \\\n",
       "fixed acidity                    -0.113181  0.668047 -0.682978   0.183006   \n",
       "volatile acidity                  0.076470  0.022026  0.234937  -0.260987   \n",
       "citric acid                       0.035533  0.364947 -0.541904   0.312770   \n",
       "residual sugar                    0.203028  0.355283 -0.085652   0.005527   \n",
       "chlorides                         0.047400  0.200632 -0.265026   0.371260   \n",
       "free sulfur dioxide               0.667666 -0.021946  0.070377   0.051658   \n",
       "total sulfur dioxide              1.000000  0.071269 -0.066495   0.042947   \n",
       "density                           0.071269  1.000000 -0.341699   0.148506   \n",
       "pH                               -0.066495 -0.341699  1.000000  -0.196648   \n",
       "sulphates                         0.042947  0.148506 -0.196648   1.000000   \n",
       "alcohol                          -0.205654 -0.496180  0.205633   0.093595   \n",
       "quality                          -0.185100 -0.174919 -0.057731   0.251397   \n",
       "\n",
       "                       alcohol   quality  \n",
       "fixed acidity        -0.061668  0.124052  \n",
       "volatile acidity     -0.202288 -0.390558  \n",
       "citric acid           0.109903  0.226373  \n",
       "residual sugar        0.042075  0.013732  \n",
       "chlorides            -0.221141 -0.128907  \n",
       "free sulfur dioxide  -0.069408 -0.050656  \n",
       "total sulfur dioxide -0.205654 -0.185100  \n",
       "density              -0.496180 -0.174919  \n",
       "pH                    0.205633 -0.057731  \n",
       "sulphates             0.093595  0.251397  \n",
       "alcohol               1.000000  0.476166  \n",
       "quality               0.476166  1.000000  "
      ]
     },
     "execution_count": 5,
     "metadata": {},
     "output_type": "execute_result"
    }
   ],
   "source": [
    "# Correlation Matrix\n",
    "\n",
    "corr_matrix = df.corr()\n",
    "corr_matrix"
   ]
  },
  {
   "cell_type": "code",
   "execution_count": 6,
   "metadata": {
    "execution": {
     "iopub.execute_input": "2021-02-03T07:23:53.426208Z",
     "iopub.status.busy": "2021-02-03T07:23:53.425552Z",
     "iopub.status.idle": "2021-02-03T07:23:54.687903Z",
     "shell.execute_reply": "2021-02-03T07:23:54.688883Z"
    },
    "papermill": {
     "duration": 1.301375,
     "end_time": "2021-02-03T07:23:54.689107",
     "exception": false,
     "start_time": "2021-02-03T07:23:53.387732",
     "status": "completed"
    },
    "tags": []
   },
   "outputs": [
    {
     "name": "stdout",
     "output_type": "stream",
     "text": [
      "                 Factors       Score\n",
      "10               alcohol  115.854797\n",
      "1       volatile acidity   60.913993\n",
      "6   total sulfur dioxide   25.478510\n",
      "9              sulphates   22.273376\n",
      "2            citric acid   19.690664\n"
     ]
    }
   ],
   "source": [
    "# Feature Selection\n",
    "\n",
    "\n",
    "from sklearn.feature_selection import SelectKBest\n",
    "from sklearn.feature_selection import f_classif\n",
    "x = df.iloc[:,0:-1]  #independent columns\n",
    "y = df.iloc[:,-1]    #target column \n",
    "#apply SelectKBest class to extract top 5 best features\n",
    "bestfeatures = SelectKBest(score_func=f_classif, k=5)\n",
    "fit = bestfeatures.fit(x,y)\n",
    "dfscores = pd.DataFrame(fit.scores_)\n",
    "dfcolumns = pd.DataFrame(x.columns)\n",
    "#concat two dataframes for better visualization \n",
    "featureScores = pd.concat([dfcolumns,dfscores],axis=1)\n",
    "featureScores.columns = ['Factors','Score']  #naming the dataframe columns\n",
    "print(featureScores.nlargest(5,'Score'))  #print 5 best features"
   ]
  },
  {
   "cell_type": "code",
   "execution_count": 7,
   "metadata": {
    "execution": {
     "iopub.execute_input": "2021-02-03T07:23:54.766939Z",
     "iopub.status.busy": "2021-02-03T07:23:54.766253Z",
     "iopub.status.idle": "2021-02-03T07:23:54.769827Z",
     "shell.execute_reply": "2021-02-03T07:23:54.769263Z"
    },
    "papermill": {
     "duration": 0.043806,
     "end_time": "2021-02-03T07:23:54.769952",
     "exception": false,
     "start_time": "2021-02-03T07:23:54.726146",
     "status": "completed"
    },
    "tags": []
   },
   "outputs": [],
   "source": [
    "#ALCOHOL CONTENT IS THE MOST IMPORTANT FACTOR FOR DETERMINING THE QUALITY OF WINE ON THE BASIS OF FEATURE SELECTION TECHNIQUE"
   ]
  },
  {
   "cell_type": "code",
   "execution_count": 8,
   "metadata": {
    "execution": {
     "iopub.execute_input": "2021-02-03T07:23:54.850283Z",
     "iopub.status.busy": "2021-02-03T07:23:54.849595Z",
     "iopub.status.idle": "2021-02-03T07:23:54.855534Z",
     "shell.execute_reply": "2021-02-03T07:23:54.854999Z"
    },
    "papermill": {
     "duration": 0.049586,
     "end_time": "2021-02-03T07:23:54.855658",
     "exception": false,
     "start_time": "2021-02-03T07:23:54.806072",
     "status": "completed"
    },
    "tags": []
   },
   "outputs": [],
   "source": [
    "x=df[[\"alcohol\",\"volatile acidity\",\"sulphates\",\"citric acid\",\"total sulfur dioxide\"]]\n",
    "y=df[[\"quality\"]]"
   ]
  },
  {
   "cell_type": "code",
   "execution_count": 9,
   "metadata": {
    "execution": {
     "iopub.execute_input": "2021-02-03T07:23:54.931056Z",
     "iopub.status.busy": "2021-02-03T07:23:54.930420Z",
     "iopub.status.idle": "2021-02-03T07:23:54.938062Z",
     "shell.execute_reply": "2021-02-03T07:23:54.938540Z"
    },
    "papermill": {
     "duration": 0.046913,
     "end_time": "2021-02-03T07:23:54.938703",
     "exception": false,
     "start_time": "2021-02-03T07:23:54.891790",
     "status": "completed"
    },
    "tags": []
   },
   "outputs": [],
   "source": [
    "#splitting the dataset into training set and test set\n",
    "from sklearn.model_selection import train_test_split\n",
    "x_train,x_test,y_train,y_test=train_test_split(x,y,test_size=0.3,random_state=0)"
   ]
  },
  {
   "cell_type": "code",
   "execution_count": 10,
   "metadata": {
    "execution": {
     "iopub.execute_input": "2021-02-03T07:23:55.014556Z",
     "iopub.status.busy": "2021-02-03T07:23:55.013861Z",
     "iopub.status.idle": "2021-02-03T07:23:55.026234Z",
     "shell.execute_reply": "2021-02-03T07:23:55.025663Z"
    },
    "papermill": {
     "duration": 0.051438,
     "end_time": "2021-02-03T07:23:55.026367",
     "exception": false,
     "start_time": "2021-02-03T07:23:54.974929",
     "status": "completed"
    },
    "tags": []
   },
   "outputs": [],
   "source": [
    "#feature scaling\n",
    "from sklearn.preprocessing import StandardScaler\n",
    "sc_x=StandardScaler()\n",
    "x_train=sc_x.fit_transform(x_train)\n",
    "x_test=sc_x.transform(x_test)"
   ]
  },
  {
   "cell_type": "code",
   "execution_count": 11,
   "metadata": {
    "execution": {
     "iopub.execute_input": "2021-02-03T07:23:55.105858Z",
     "iopub.status.busy": "2021-02-03T07:23:55.105149Z",
     "iopub.status.idle": "2021-02-03T07:23:55.108282Z",
     "shell.execute_reply": "2021-02-03T07:23:55.107739Z"
    },
    "papermill": {
     "duration": 0.044218,
     "end_time": "2021-02-03T07:23:55.108491",
     "exception": false,
     "start_time": "2021-02-03T07:23:55.064273",
     "status": "completed"
    },
    "tags": []
   },
   "outputs": [],
   "source": [
    "#XGBOOST CLASSIFIER"
   ]
  },
  {
   "cell_type": "code",
   "execution_count": 12,
   "metadata": {
    "execution": {
     "iopub.execute_input": "2021-02-03T07:23:55.187193Z",
     "iopub.status.busy": "2021-02-03T07:23:55.186484Z",
     "iopub.status.idle": "2021-02-03T07:23:56.458218Z",
     "shell.execute_reply": "2021-02-03T07:23:56.458998Z"
    },
    "papermill": {
     "duration": 1.314173,
     "end_time": "2021-02-03T07:23:56.459168",
     "exception": false,
     "start_time": "2021-02-03T07:23:55.144995",
     "status": "completed"
    },
    "tags": []
   },
   "outputs": [
    {
     "name": "stderr",
     "output_type": "stream",
     "text": [
      "/opt/conda/lib/python3.7/site-packages/sklearn/utils/validation.py:73: DataConversionWarning: A column-vector y was passed when a 1d array was expected. Please change the shape of y to (n_samples, ), for example using ravel().\n",
      "  return f(**kwargs)\n"
     ]
    },
    {
     "data": {
      "text/plain": [
       "XGBClassifier(base_score=0.5, booster='gbtree', colsample_bylevel=1,\n",
       "              colsample_bynode=1, colsample_bytree=1, gamma=0, gpu_id=-1,\n",
       "              importance_type='gain', interaction_constraints='',\n",
       "              learning_rate=0.300000012, max_delta_step=0, max_depth=6,\n",
       "              min_child_weight=1, missing=nan, monotone_constraints='()',\n",
       "              n_estimators=100, n_jobs=0, num_parallel_tree=1,\n",
       "              objective='multi:softprob', random_state=0, reg_alpha=0,\n",
       "              reg_lambda=1, scale_pos_weight=None, subsample=1,\n",
       "              tree_method='exact', validate_parameters=1, verbosity=None)"
      ]
     },
     "execution_count": 12,
     "metadata": {},
     "output_type": "execute_result"
    }
   ],
   "source": [
    "#fitting xgb to the training set\n",
    "from xgboost import XGBClassifier\n",
    "classifier=XGBClassifier()\n",
    "classifier.fit(x_train,y_train)"
   ]
  },
  {
   "cell_type": "code",
   "execution_count": 13,
   "metadata": {
    "execution": {
     "iopub.execute_input": "2021-02-03T07:23:56.566479Z",
     "iopub.status.busy": "2021-02-03T07:23:56.565706Z",
     "iopub.status.idle": "2021-02-03T07:23:56.570518Z",
     "shell.execute_reply": "2021-02-03T07:23:56.571277Z"
    },
    "papermill": {
     "duration": 0.064337,
     "end_time": "2021-02-03T07:23:56.571463",
     "exception": false,
     "start_time": "2021-02-03T07:23:56.507126",
     "status": "completed"
    },
    "tags": []
   },
   "outputs": [],
   "source": [
    "#predicting the test set results\n",
    "y_pred=classifier.predict(x_test)"
   ]
  },
  {
   "cell_type": "code",
   "execution_count": 14,
   "metadata": {
    "execution": {
     "iopub.execute_input": "2021-02-03T07:23:56.681228Z",
     "iopub.status.busy": "2021-02-03T07:23:56.680380Z",
     "iopub.status.idle": "2021-02-03T07:23:56.686011Z",
     "shell.execute_reply": "2021-02-03T07:23:56.686783Z"
    },
    "papermill": {
     "duration": 0.06516,
     "end_time": "2021-02-03T07:23:56.686963",
     "exception": false,
     "start_time": "2021-02-03T07:23:56.621803",
     "status": "completed"
    },
    "tags": []
   },
   "outputs": [
    {
     "data": {
      "text/plain": [
       "array([6, 5, 7, 5, 5, 5, 5, 6, 5, 5, 5, 5, 6, 6, 6, 7, 7, 5, 5, 6, 7, 6,\n",
       "       6, 7, 5, 5, 5, 6, 5, 6, 6, 6, 6, 6, 7, 7, 5, 6, 6, 5, 6, 6, 6, 7,\n",
       "       6, 5, 5, 6, 6, 6, 6, 5, 6, 6, 6, 5, 5, 5, 7, 5, 5, 5, 6, 6, 5, 7,\n",
       "       5, 5, 6, 6, 6, 5, 5, 6, 6, 6, 5, 5, 5, 7, 6, 5, 6, 5, 6, 5, 6, 5,\n",
       "       6, 5, 5, 5, 7, 5, 7, 6, 7, 5, 6, 6, 7, 7, 6, 5, 5, 5, 5, 5, 6, 5,\n",
       "       6, 5, 7, 5, 6, 6, 4, 6, 6, 6, 5, 6, 5, 5, 7, 8, 5, 5, 6, 7, 6, 5,\n",
       "       6, 5, 6, 5, 6, 5, 6, 5, 6, 6, 5, 5, 5, 6, 7, 6, 5, 5, 5, 6, 5, 5,\n",
       "       6, 5, 5, 5, 6, 7, 6, 6, 6, 5, 5, 5, 6, 7, 6, 6, 5, 6, 6, 7, 5, 6,\n",
       "       5, 7, 7, 5, 5, 7, 6, 6, 7, 5, 6, 6, 5, 6, 6, 6, 5, 6, 5, 5, 5, 5,\n",
       "       5, 5, 5, 6, 6, 6, 5, 5, 5, 6, 7, 6, 5, 6, 5, 7, 5, 5, 6, 6, 6, 5,\n",
       "       5, 6, 6, 6, 6, 6, 6, 6, 6, 6, 5, 6, 5, 6, 6, 6, 6, 7, 7, 6, 5, 5,\n",
       "       5, 5, 7, 5, 6, 5, 5, 7, 5, 5, 5, 5, 5, 6, 5, 5, 5, 7, 5, 6, 5, 6,\n",
       "       5, 5, 6, 5, 6, 7, 5, 6, 5, 6, 6, 6, 6, 6, 6, 7, 5, 7, 6, 5, 6, 5,\n",
       "       5, 6, 7, 5, 5, 5, 6, 5, 5, 6, 5, 5, 5, 5, 6, 5, 6, 5, 6, 6, 6, 5,\n",
       "       5, 5, 5, 6, 5, 5, 4, 7, 5, 6, 5, 7, 5, 4, 7, 7, 6, 6, 7, 5, 5, 5,\n",
       "       7, 5, 5, 6, 5, 6, 7, 5, 5, 6, 5, 6, 5, 7, 6, 5, 6, 5, 5, 7, 5, 7,\n",
       "       5, 6, 7, 5, 6, 5, 6, 7, 5, 7, 5, 6, 6, 5, 6, 7, 5, 5, 6, 6, 5, 6,\n",
       "       5, 5, 6, 6, 6, 6, 6, 6, 5, 6, 5, 6, 7, 6, 6, 5, 7, 5, 5, 7, 4, 6,\n",
       "       6, 5, 6, 6, 5, 6, 5, 6, 5, 5, 6, 7, 5, 7, 5, 5, 5, 7, 6, 5, 6, 5,\n",
       "       5, 5, 6, 6, 6, 5, 5, 6, 5, 7, 6, 5, 6, 6, 5, 6, 6, 7, 6, 7, 5, 5,\n",
       "       6, 5, 6, 5, 5, 5, 5, 8, 5, 5, 6, 5, 7, 6, 6, 5, 6, 5, 6, 5, 5, 6,\n",
       "       5, 5, 5, 5, 6, 5, 5, 5, 6, 5, 5, 6, 5, 5, 5, 5, 6, 5])"
      ]
     },
     "execution_count": 14,
     "metadata": {},
     "output_type": "execute_result"
    }
   ],
   "source": [
    "y_pred"
   ]
  },
  {
   "cell_type": "code",
   "execution_count": 15,
   "metadata": {
    "execution": {
     "iopub.execute_input": "2021-02-03T07:23:56.792938Z",
     "iopub.status.busy": "2021-02-03T07:23:56.792207Z",
     "iopub.status.idle": "2021-02-03T07:23:58.624234Z",
     "shell.execute_reply": "2021-02-03T07:23:58.625330Z"
    },
    "papermill": {
     "duration": 1.885715,
     "end_time": "2021-02-03T07:23:58.625515",
     "exception": false,
     "start_time": "2021-02-03T07:23:56.739800",
     "status": "completed"
    },
    "tags": []
   },
   "outputs": [
    {
     "name": "stderr",
     "output_type": "stream",
     "text": [
      "/opt/conda/lib/python3.7/site-packages/sklearn/utils/validation.py:73: DataConversionWarning: A column-vector y was passed when a 1d array was expected. Please change the shape of y to (n_samples, ), for example using ravel().\n",
      "  return f(**kwargs)\n"
     ]
    }
   ],
   "source": [
    "#applying the k-fold cross validation\n",
    "#best way to find accuracy of model\n",
    "from sklearn.model_selection import cross_val_score\n",
    "accuracy=cross_val_score(estimator=classifier,X=x_train,y=y_train,cv=7)"
   ]
  },
  {
   "cell_type": "code",
   "execution_count": 16,
   "metadata": {
    "execution": {
     "iopub.execute_input": "2021-02-03T07:23:58.735713Z",
     "iopub.status.busy": "2021-02-03T07:23:58.734811Z",
     "iopub.status.idle": "2021-02-03T07:23:58.738404Z",
     "shell.execute_reply": "2021-02-03T07:23:58.736404Z"
    },
    "papermill": {
     "duration": 0.061501,
     "end_time": "2021-02-03T07:23:58.738539",
     "exception": false,
     "start_time": "2021-02-03T07:23:58.677038",
     "status": "completed"
    },
    "tags": []
   },
   "outputs": [
    {
     "data": {
      "text/plain": [
       "0.6309860736747529"
      ]
     },
     "execution_count": 16,
     "metadata": {},
     "output_type": "execute_result"
    }
   ],
   "source": [
    "accuracy.mean()"
   ]
  },
  {
   "cell_type": "code",
   "execution_count": 17,
   "metadata": {
    "execution": {
     "iopub.execute_input": "2021-02-03T07:23:58.838986Z",
     "iopub.status.busy": "2021-02-03T07:23:58.838142Z",
     "iopub.status.idle": "2021-02-03T07:23:58.841392Z",
     "shell.execute_reply": "2021-02-03T07:23:58.840873Z"
    },
    "papermill": {
     "duration": 0.052614,
     "end_time": "2021-02-03T07:23:58.841507",
     "exception": false,
     "start_time": "2021-02-03T07:23:58.788893",
     "status": "completed"
    },
    "tags": []
   },
   "outputs": [],
   "source": [
    "#Linear Discriminant Analysis (LDA) "
   ]
  },
  {
   "cell_type": "code",
   "execution_count": 18,
   "metadata": {
    "execution": {
     "iopub.execute_input": "2021-02-03T07:23:58.927698Z",
     "iopub.status.busy": "2021-02-03T07:23:58.926989Z",
     "iopub.status.idle": "2021-02-03T07:23:59.015484Z",
     "shell.execute_reply": "2021-02-03T07:23:59.016524Z"
    },
    "papermill": {
     "duration": 0.136087,
     "end_time": "2021-02-03T07:23:59.016787",
     "exception": false,
     "start_time": "2021-02-03T07:23:58.880700",
     "status": "completed"
    },
    "tags": []
   },
   "outputs": [
    {
     "name": "stderr",
     "output_type": "stream",
     "text": [
      "/opt/conda/lib/python3.7/site-packages/sklearn/utils/validation.py:73: DataConversionWarning: A column-vector y was passed when a 1d array was expected. Please change the shape of y to (n_samples, ), for example using ravel().\n",
      "  return f(**kwargs)\n"
     ]
    }
   ],
   "source": [
    "#applying the LDA\n",
    "from sklearn.discriminant_analysis import LinearDiscriminantAnalysis as LDA\n",
    "lda=LDA(n_components=2)\n",
    "x_train=lda.fit_transform(x_train,y_train)\n",
    "x_test=lda.transform(x_test)"
   ]
  },
  {
   "cell_type": "code",
   "execution_count": 19,
   "metadata": {
    "execution": {
     "iopub.execute_input": "2021-02-03T07:23:59.101259Z",
     "iopub.status.busy": "2021-02-03T07:23:59.100539Z",
     "iopub.status.idle": "2021-02-03T07:23:59.106326Z",
     "shell.execute_reply": "2021-02-03T07:23:59.106885Z"
    },
    "papermill": {
     "duration": 0.048909,
     "end_time": "2021-02-03T07:23:59.107024",
     "exception": false,
     "start_time": "2021-02-03T07:23:59.058115",
     "status": "completed"
    },
    "tags": []
   },
   "outputs": [
    {
     "data": {
      "text/plain": [
       "array([[ 1.33526021,  0.66267224],\n",
       "       [ 1.90124742,  2.20446671],\n",
       "       [-0.79162643, -0.50709566],\n",
       "       ...,\n",
       "       [-1.01490501,  0.55722801],\n",
       "       [ 2.04478697, -0.61701047],\n",
       "       [-3.20457381, -0.17685043]])"
      ]
     },
     "execution_count": 19,
     "metadata": {},
     "output_type": "execute_result"
    }
   ],
   "source": [
    "x_train\n",
    "#two new extracted features that will separate most of the classes of the target variable"
   ]
  },
  {
   "cell_type": "code",
   "execution_count": 20,
   "metadata": {
    "execution": {
     "iopub.execute_input": "2021-02-03T07:23:59.192109Z",
     "iopub.status.busy": "2021-02-03T07:23:59.191460Z",
     "iopub.status.idle": "2021-02-03T07:23:59.194748Z",
     "shell.execute_reply": "2021-02-03T07:23:59.195285Z"
    },
    "papermill": {
     "duration": 0.046618,
     "end_time": "2021-02-03T07:23:59.195420",
     "exception": false,
     "start_time": "2021-02-03T07:23:59.148802",
     "status": "completed"
    },
    "tags": []
   },
   "outputs": [],
   "source": [
    "#APPLYING LOGISTIC REGRESSION ON EXTRACTED FEATURES"
   ]
  },
  {
   "cell_type": "code",
   "execution_count": 21,
   "metadata": {
    "execution": {
     "iopub.execute_input": "2021-02-03T07:23:59.278592Z",
     "iopub.status.busy": "2021-02-03T07:23:59.277984Z",
     "iopub.status.idle": "2021-02-03T07:23:59.337954Z",
     "shell.execute_reply": "2021-02-03T07:23:59.337267Z"
    },
    "papermill": {
     "duration": 0.102693,
     "end_time": "2021-02-03T07:23:59.338072",
     "exception": false,
     "start_time": "2021-02-03T07:23:59.235379",
     "status": "completed"
    },
    "tags": []
   },
   "outputs": [
    {
     "name": "stderr",
     "output_type": "stream",
     "text": [
      "/opt/conda/lib/python3.7/site-packages/sklearn/utils/validation.py:73: DataConversionWarning: A column-vector y was passed when a 1d array was expected. Please change the shape of y to (n_samples, ), for example using ravel().\n",
      "  return f(**kwargs)\n"
     ]
    },
    {
     "data": {
      "text/plain": [
       "LogisticRegression(random_state=0)"
      ]
     },
     "execution_count": 21,
     "metadata": {},
     "output_type": "execute_result"
    }
   ],
   "source": [
    "#fitting the logistic regression to the training set\n",
    "from sklearn.linear_model import LogisticRegression\n",
    "classifier=LogisticRegression(random_state=0)\n",
    "classifier.fit(x_train,y_train)"
   ]
  },
  {
   "cell_type": "code",
   "execution_count": 22,
   "metadata": {
    "execution": {
     "iopub.execute_input": "2021-02-03T07:23:59.425559Z",
     "iopub.status.busy": "2021-02-03T07:23:59.424916Z",
     "iopub.status.idle": "2021-02-03T07:23:59.428154Z",
     "shell.execute_reply": "2021-02-03T07:23:59.428595Z"
    },
    "papermill": {
     "duration": 0.049601,
     "end_time": "2021-02-03T07:23:59.428777",
     "exception": false,
     "start_time": "2021-02-03T07:23:59.379176",
     "status": "completed"
    },
    "tags": []
   },
   "outputs": [],
   "source": [
    "#predicting the test set results\n",
    "y_pred=classifier.predict(x_test)"
   ]
  },
  {
   "cell_type": "code",
   "execution_count": 23,
   "metadata": {
    "execution": {
     "iopub.execute_input": "2021-02-03T07:23:59.519418Z",
     "iopub.status.busy": "2021-02-03T07:23:59.518594Z",
     "iopub.status.idle": "2021-02-03T07:23:59.785720Z",
     "shell.execute_reply": "2021-02-03T07:23:59.785182Z"
    },
    "papermill": {
     "duration": 0.315991,
     "end_time": "2021-02-03T07:23:59.785837",
     "exception": false,
     "start_time": "2021-02-03T07:23:59.469846",
     "status": "completed"
    },
    "tags": []
   },
   "outputs": [
    {
     "name": "stderr",
     "output_type": "stream",
     "text": [
      "/opt/conda/lib/python3.7/site-packages/sklearn/utils/validation.py:73: DataConversionWarning: A column-vector y was passed when a 1d array was expected. Please change the shape of y to (n_samples, ), for example using ravel().\n",
      "  return f(**kwargs)\n",
      "/opt/conda/lib/python3.7/site-packages/sklearn/utils/validation.py:73: DataConversionWarning: A column-vector y was passed when a 1d array was expected. Please change the shape of y to (n_samples, ), for example using ravel().\n",
      "  return f(**kwargs)\n",
      "/opt/conda/lib/python3.7/site-packages/sklearn/utils/validation.py:73: DataConversionWarning: A column-vector y was passed when a 1d array was expected. Please change the shape of y to (n_samples, ), for example using ravel().\n",
      "  return f(**kwargs)\n",
      "/opt/conda/lib/python3.7/site-packages/sklearn/utils/validation.py:73: DataConversionWarning: A column-vector y was passed when a 1d array was expected. Please change the shape of y to (n_samples, ), for example using ravel().\n",
      "  return f(**kwargs)\n",
      "/opt/conda/lib/python3.7/site-packages/sklearn/utils/validation.py:73: DataConversionWarning: A column-vector y was passed when a 1d array was expected. Please change the shape of y to (n_samples, ), for example using ravel().\n",
      "  return f(**kwargs)\n",
      "/opt/conda/lib/python3.7/site-packages/sklearn/utils/validation.py:73: DataConversionWarning: A column-vector y was passed when a 1d array was expected. Please change the shape of y to (n_samples, ), for example using ravel().\n",
      "  return f(**kwargs)\n",
      "/opt/conda/lib/python3.7/site-packages/sklearn/utils/validation.py:73: DataConversionWarning: A column-vector y was passed when a 1d array was expected. Please change the shape of y to (n_samples, ), for example using ravel().\n",
      "  return f(**kwargs)\n"
     ]
    }
   ],
   "source": [
    "#applying the k-fold cross validation\n",
    "#best way to find accuracy of model\n",
    "from sklearn.model_selection import cross_val_score\n",
    "accuracy=cross_val_score(estimator=classifier,X=x_train,y=y_train,cv=7)"
   ]
  },
  {
   "cell_type": "code",
   "execution_count": 24,
   "metadata": {
    "execution": {
     "iopub.execute_input": "2021-02-03T07:23:59.875037Z",
     "iopub.status.busy": "2021-02-03T07:23:59.874289Z",
     "iopub.status.idle": "2021-02-03T07:23:59.879131Z",
     "shell.execute_reply": "2021-02-03T07:23:59.878447Z"
    },
    "papermill": {
     "duration": 0.051394,
     "end_time": "2021-02-03T07:23:59.879241",
     "exception": false,
     "start_time": "2021-02-03T07:23:59.827847",
     "status": "completed"
    },
    "tags": []
   },
   "outputs": [
    {
     "data": {
      "text/plain": [
       "0.5773079514824797"
      ]
     },
     "execution_count": 24,
     "metadata": {},
     "output_type": "execute_result"
    }
   ],
   "source": [
    "accuracy.mean()\n"
   ]
  },
  {
   "cell_type": "code",
   "execution_count": 25,
   "metadata": {
    "execution": {
     "iopub.execute_input": "2021-02-03T07:23:59.970569Z",
     "iopub.status.busy": "2021-02-03T07:23:59.969505Z",
     "iopub.status.idle": "2021-02-03T07:23:59.972680Z",
     "shell.execute_reply": "2021-02-03T07:23:59.972018Z"
    },
    "papermill": {
     "duration": 0.050332,
     "end_time": "2021-02-03T07:23:59.972798",
     "exception": false,
     "start_time": "2021-02-03T07:23:59.922466",
     "status": "completed"
    },
    "tags": []
   },
   "outputs": [],
   "source": [
    "#KERNEL SVM"
   ]
  },
  {
   "cell_type": "code",
   "execution_count": 26,
   "metadata": {
    "execution": {
     "iopub.execute_input": "2021-02-03T07:24:00.065257Z",
     "iopub.status.busy": "2021-02-03T07:24:00.064299Z",
     "iopub.status.idle": "2021-02-03T07:24:00.137094Z",
     "shell.execute_reply": "2021-02-03T07:24:00.136129Z"
    },
    "papermill": {
     "duration": 0.122008,
     "end_time": "2021-02-03T07:24:00.137272",
     "exception": false,
     "start_time": "2021-02-03T07:24:00.015264",
     "status": "completed"
    },
    "tags": []
   },
   "outputs": [
    {
     "name": "stderr",
     "output_type": "stream",
     "text": [
      "/opt/conda/lib/python3.7/site-packages/sklearn/utils/validation.py:73: DataConversionWarning: A column-vector y was passed when a 1d array was expected. Please change the shape of y to (n_samples, ), for example using ravel().\n",
      "  return f(**kwargs)\n"
     ]
    },
    {
     "data": {
      "text/plain": [
       "SVC(random_state=0)"
      ]
     },
     "execution_count": 26,
     "metadata": {},
     "output_type": "execute_result"
    }
   ],
   "source": [
    "\n",
    "#fitting the kernel svm to the training dataset\n",
    "from sklearn.svm import SVC\n",
    "classifier=SVC(kernel='rbf',random_state=0)\n",
    "classifier.fit(x_train,y_train)"
   ]
  },
  {
   "cell_type": "code",
   "execution_count": 27,
   "metadata": {
    "execution": {
     "iopub.execute_input": "2021-02-03T07:24:00.234428Z",
     "iopub.status.busy": "2021-02-03T07:24:00.233766Z",
     "iopub.status.idle": "2021-02-03T07:24:00.237266Z",
     "shell.execute_reply": "2021-02-03T07:24:00.236649Z"
    },
    "papermill": {
     "duration": 0.055616,
     "end_time": "2021-02-03T07:24:00.237387",
     "exception": false,
     "start_time": "2021-02-03T07:24:00.181771",
     "status": "completed"
    },
    "tags": []
   },
   "outputs": [],
   "source": [
    "#applying grid_search to find optimal model and optimal parameters\n",
    "from sklearn.model_selection import GridSearchCV\n",
    "parameters=[{'C':[1,10,100,1000],'kernel':['linear']},\n",
    "            {'C':[1,10,100,1000],'kernel':['rbf'],'gamma':[0.5,0.1,0.01,0.001,0.0001]}]"
   ]
  },
  {
   "cell_type": "code",
   "execution_count": 28,
   "metadata": {
    "execution": {
     "iopub.execute_input": "2021-02-03T07:24:00.331972Z",
     "iopub.status.busy": "2021-02-03T07:24:00.331112Z",
     "iopub.status.idle": "2021-02-03T07:27:09.809491Z",
     "shell.execute_reply": "2021-02-03T07:27:09.810007Z"
    },
    "papermill": {
     "duration": 189.529176,
     "end_time": "2021-02-03T07:27:09.810194",
     "exception": false,
     "start_time": "2021-02-03T07:24:00.281018",
     "status": "completed"
    },
    "tags": []
   },
   "outputs": [
    {
     "name": "stderr",
     "output_type": "stream",
     "text": [
      "/opt/conda/lib/python3.7/site-packages/sklearn/utils/validation.py:73: DataConversionWarning: A column-vector y was passed when a 1d array was expected. Please change the shape of y to (n_samples, ), for example using ravel().\n",
      "  return f(**kwargs)\n"
     ]
    }
   ],
   "source": [
    "grid_search=GridSearchCV(estimator=classifier,\n",
    "                         param_grid=parameters,\n",
    "                         scoring='accuracy',\n",
    "                         cv=7,\n",
    "                         n_jobs=-1)\n",
    "grid_search=grid_search.fit(x_train,y_train)"
   ]
  },
  {
   "cell_type": "code",
   "execution_count": 29,
   "metadata": {
    "execution": {
     "iopub.execute_input": "2021-02-03T07:27:09.905229Z",
     "iopub.status.busy": "2021-02-03T07:27:09.904234Z",
     "iopub.status.idle": "2021-02-03T07:27:09.908019Z",
     "shell.execute_reply": "2021-02-03T07:27:09.907483Z"
    },
    "papermill": {
     "duration": 0.053315,
     "end_time": "2021-02-03T07:27:09.908136",
     "exception": false,
     "start_time": "2021-02-03T07:27:09.854821",
     "status": "completed"
    },
    "tags": []
   },
   "outputs": [],
   "source": [
    "best_parameter=grid_search.best_params_\n",
    "best_accuracy=grid_search.best_score_"
   ]
  },
  {
   "cell_type": "code",
   "execution_count": 30,
   "metadata": {
    "execution": {
     "iopub.execute_input": "2021-02-03T07:27:10.004458Z",
     "iopub.status.busy": "2021-02-03T07:27:10.003681Z",
     "iopub.status.idle": "2021-02-03T07:27:10.007291Z",
     "shell.execute_reply": "2021-02-03T07:27:10.006616Z"
    },
    "papermill": {
     "duration": 0.054797,
     "end_time": "2021-02-03T07:27:10.007401",
     "exception": false,
     "start_time": "2021-02-03T07:27:09.952604",
     "status": "completed"
    },
    "tags": []
   },
   "outputs": [
    {
     "data": {
      "text/plain": [
       "{'C': 100, 'gamma': 0.5, 'kernel': 'rbf'}"
      ]
     },
     "execution_count": 30,
     "metadata": {},
     "output_type": "execute_result"
    }
   ],
   "source": [
    "best_parameter"
   ]
  },
  {
   "cell_type": "code",
   "execution_count": 31,
   "metadata": {
    "execution": {
     "iopub.execute_input": "2021-02-03T07:27:10.104982Z",
     "iopub.status.busy": "2021-02-03T07:27:10.104270Z",
     "iopub.status.idle": "2021-02-03T07:27:10.432643Z",
     "shell.execute_reply": "2021-02-03T07:27:10.431962Z"
    },
    "papermill": {
     "duration": 0.379688,
     "end_time": "2021-02-03T07:27:10.432772",
     "exception": false,
     "start_time": "2021-02-03T07:27:10.053084",
     "status": "completed"
    },
    "tags": []
   },
   "outputs": [
    {
     "name": "stderr",
     "output_type": "stream",
     "text": [
      "/opt/conda/lib/python3.7/site-packages/sklearn/utils/validation.py:73: DataConversionWarning: A column-vector y was passed when a 1d array was expected. Please change the shape of y to (n_samples, ), for example using ravel().\n",
      "  return f(**kwargs)\n"
     ]
    },
    {
     "data": {
      "text/plain": [
       "SVC(C=100, gamma=0.5)"
      ]
     },
     "execution_count": 31,
     "metadata": {},
     "output_type": "execute_result"
    }
   ],
   "source": [
    "#fitting the kernel svm to the training dataset\n",
    "from sklearn.svm import SVC\n",
    "classifier=SVC(kernel='rbf',C=100,gamma=0.5)\n",
    "classifier.fit(x_train,y_train)"
   ]
  },
  {
   "cell_type": "code",
   "execution_count": 32,
   "metadata": {
    "execution": {
     "iopub.execute_input": "2021-02-03T07:27:10.531671Z",
     "iopub.status.busy": "2021-02-03T07:27:10.530908Z",
     "iopub.status.idle": "2021-02-03T07:27:10.544947Z",
     "shell.execute_reply": "2021-02-03T07:27:10.545432Z"
    },
    "papermill": {
     "duration": 0.066281,
     "end_time": "2021-02-03T07:27:10.545590",
     "exception": false,
     "start_time": "2021-02-03T07:27:10.479309",
     "status": "completed"
    },
    "tags": []
   },
   "outputs": [],
   "source": [
    "#predicting the test set results\n",
    "y_pred=classifier.predict(x_test)"
   ]
  },
  {
   "cell_type": "code",
   "execution_count": 33,
   "metadata": {
    "execution": {
     "iopub.execute_input": "2021-02-03T07:27:10.640360Z",
     "iopub.status.busy": "2021-02-03T07:27:10.639731Z",
     "iopub.status.idle": "2021-02-03T07:27:12.221814Z",
     "shell.execute_reply": "2021-02-03T07:27:12.221238Z"
    },
    "papermill": {
     "duration": 1.630605,
     "end_time": "2021-02-03T07:27:12.221932",
     "exception": false,
     "start_time": "2021-02-03T07:27:10.591327",
     "status": "completed"
    },
    "tags": []
   },
   "outputs": [
    {
     "name": "stderr",
     "output_type": "stream",
     "text": [
      "/opt/conda/lib/python3.7/site-packages/sklearn/utils/validation.py:73: DataConversionWarning: A column-vector y was passed when a 1d array was expected. Please change the shape of y to (n_samples, ), for example using ravel().\n",
      "  return f(**kwargs)\n",
      "/opt/conda/lib/python3.7/site-packages/sklearn/utils/validation.py:73: DataConversionWarning: A column-vector y was passed when a 1d array was expected. Please change the shape of y to (n_samples, ), for example using ravel().\n",
      "  return f(**kwargs)\n",
      "/opt/conda/lib/python3.7/site-packages/sklearn/utils/validation.py:73: DataConversionWarning: A column-vector y was passed when a 1d array was expected. Please change the shape of y to (n_samples, ), for example using ravel().\n",
      "  return f(**kwargs)\n",
      "/opt/conda/lib/python3.7/site-packages/sklearn/utils/validation.py:73: DataConversionWarning: A column-vector y was passed when a 1d array was expected. Please change the shape of y to (n_samples, ), for example using ravel().\n",
      "  return f(**kwargs)\n",
      "/opt/conda/lib/python3.7/site-packages/sklearn/utils/validation.py:73: DataConversionWarning: A column-vector y was passed when a 1d array was expected. Please change the shape of y to (n_samples, ), for example using ravel().\n",
      "  return f(**kwargs)\n",
      "/opt/conda/lib/python3.7/site-packages/sklearn/utils/validation.py:73: DataConversionWarning: A column-vector y was passed when a 1d array was expected. Please change the shape of y to (n_samples, ), for example using ravel().\n",
      "  return f(**kwargs)\n",
      "/opt/conda/lib/python3.7/site-packages/sklearn/utils/validation.py:73: DataConversionWarning: A column-vector y was passed when a 1d array was expected. Please change the shape of y to (n_samples, ), for example using ravel().\n",
      "  return f(**kwargs)\n"
     ]
    }
   ],
   "source": [
    "#applying the k-fold cross validation\n",
    "#best way to find accuracy of model\n",
    "from sklearn.model_selection import cross_val_score\n",
    "accuracy=cross_val_score(estimator=classifier,X=x_train,y=y_train,cv=7)"
   ]
  },
  {
   "cell_type": "code",
   "execution_count": 34,
   "metadata": {
    "execution": {
     "iopub.execute_input": "2021-02-03T07:27:12.325456Z",
     "iopub.status.busy": "2021-02-03T07:27:12.324502Z",
     "iopub.status.idle": "2021-02-03T07:27:12.329643Z",
     "shell.execute_reply": "2021-02-03T07:27:12.328904Z"
    },
    "papermill": {
     "duration": 0.058456,
     "end_time": "2021-02-03T07:27:12.329760",
     "exception": false,
     "start_time": "2021-02-03T07:27:12.271304",
     "status": "completed"
    },
    "tags": []
   },
   "outputs": [
    {
     "data": {
      "text/plain": [
       "0.5924809074573226"
      ]
     },
     "execution_count": 34,
     "metadata": {},
     "output_type": "execute_result"
    }
   ],
   "source": [
    "accuracy.mean()"
   ]
  },
  {
   "cell_type": "code",
   "execution_count": 35,
   "metadata": {
    "execution": {
     "iopub.execute_input": "2021-02-03T07:27:12.431115Z",
     "iopub.status.busy": "2021-02-03T07:27:12.430414Z",
     "iopub.status.idle": "2021-02-03T07:27:12.433467Z",
     "shell.execute_reply": "2021-02-03T07:27:12.432910Z"
    },
    "papermill": {
     "duration": 0.055682,
     "end_time": "2021-02-03T07:27:12.433571",
     "exception": false,
     "start_time": "2021-02-03T07:27:12.377889",
     "status": "completed"
    },
    "tags": []
   },
   "outputs": [],
   "source": [
    "#K-NEAREST NEIGHBORS CLASSIFIER"
   ]
  },
  {
   "cell_type": "code",
   "execution_count": 36,
   "metadata": {
    "execution": {
     "iopub.execute_input": "2021-02-03T07:27:12.533758Z",
     "iopub.status.busy": "2021-02-03T07:27:12.533055Z",
     "iopub.status.idle": "2021-02-03T07:27:12.548826Z",
     "shell.execute_reply": "2021-02-03T07:27:12.548281Z"
    },
    "papermill": {
     "duration": 0.066689,
     "end_time": "2021-02-03T07:27:12.548946",
     "exception": false,
     "start_time": "2021-02-03T07:27:12.482257",
     "status": "completed"
    },
    "tags": []
   },
   "outputs": [
    {
     "name": "stderr",
     "output_type": "stream",
     "text": [
      "/opt/conda/lib/python3.7/site-packages/ipykernel_launcher.py:4: DataConversionWarning: A column-vector y was passed when a 1d array was expected. Please change the shape of y to (n_samples, ), for example using ravel().\n",
      "  after removing the cwd from sys.path.\n"
     ]
    },
    {
     "data": {
      "text/plain": [
       "KNeighborsClassifier()"
      ]
     },
     "execution_count": 36,
     "metadata": {},
     "output_type": "execute_result"
    }
   ],
   "source": [
    "#fitting the k nearest neighbour to the training set\n",
    "from sklearn.neighbors import KNeighborsClassifier\n",
    "classifier=KNeighborsClassifier(n_neighbors=5,metric= 'minkowski',p=2)\n",
    "classifier.fit(x_train,y_train)"
   ]
  },
  {
   "cell_type": "code",
   "execution_count": 37,
   "metadata": {
    "execution": {
     "iopub.execute_input": "2021-02-03T07:27:12.655285Z",
     "iopub.status.busy": "2021-02-03T07:27:12.654226Z",
     "iopub.status.idle": "2021-02-03T07:27:12.678176Z",
     "shell.execute_reply": "2021-02-03T07:27:12.677608Z"
    },
    "papermill": {
     "duration": 0.079065,
     "end_time": "2021-02-03T07:27:12.678321",
     "exception": false,
     "start_time": "2021-02-03T07:27:12.599256",
     "status": "completed"
    },
    "tags": []
   },
   "outputs": [],
   "source": [
    "#predicting the test set results\n",
    "y_pred=classifier.predict(x_test)"
   ]
  },
  {
   "cell_type": "code",
   "execution_count": 38,
   "metadata": {
    "execution": {
     "iopub.execute_input": "2021-02-03T07:27:12.786073Z",
     "iopub.status.busy": "2021-02-03T07:27:12.785055Z",
     "iopub.status.idle": "2021-02-03T07:27:12.872272Z",
     "shell.execute_reply": "2021-02-03T07:27:12.871304Z"
    },
    "papermill": {
     "duration": 0.144284,
     "end_time": "2021-02-03T07:27:12.872403",
     "exception": false,
     "start_time": "2021-02-03T07:27:12.728119",
     "status": "completed"
    },
    "tags": []
   },
   "outputs": [
    {
     "name": "stderr",
     "output_type": "stream",
     "text": [
      "/opt/conda/lib/python3.7/site-packages/sklearn/model_selection/_validation.py:531: DataConversionWarning: A column-vector y was passed when a 1d array was expected. Please change the shape of y to (n_samples, ), for example using ravel().\n",
      "  estimator.fit(X_train, y_train, **fit_params)\n",
      "/opt/conda/lib/python3.7/site-packages/sklearn/model_selection/_validation.py:531: DataConversionWarning: A column-vector y was passed when a 1d array was expected. Please change the shape of y to (n_samples, ), for example using ravel().\n",
      "  estimator.fit(X_train, y_train, **fit_params)\n",
      "/opt/conda/lib/python3.7/site-packages/sklearn/model_selection/_validation.py:531: DataConversionWarning: A column-vector y was passed when a 1d array was expected. Please change the shape of y to (n_samples, ), for example using ravel().\n",
      "  estimator.fit(X_train, y_train, **fit_params)\n",
      "/opt/conda/lib/python3.7/site-packages/sklearn/model_selection/_validation.py:531: DataConversionWarning: A column-vector y was passed when a 1d array was expected. Please change the shape of y to (n_samples, ), for example using ravel().\n",
      "  estimator.fit(X_train, y_train, **fit_params)\n",
      "/opt/conda/lib/python3.7/site-packages/sklearn/model_selection/_validation.py:531: DataConversionWarning: A column-vector y was passed when a 1d array was expected. Please change the shape of y to (n_samples, ), for example using ravel().\n",
      "  estimator.fit(X_train, y_train, **fit_params)\n",
      "/opt/conda/lib/python3.7/site-packages/sklearn/model_selection/_validation.py:531: DataConversionWarning: A column-vector y was passed when a 1d array was expected. Please change the shape of y to (n_samples, ), for example using ravel().\n",
      "  estimator.fit(X_train, y_train, **fit_params)\n",
      "/opt/conda/lib/python3.7/site-packages/sklearn/model_selection/_validation.py:531: DataConversionWarning: A column-vector y was passed when a 1d array was expected. Please change the shape of y to (n_samples, ), for example using ravel().\n",
      "  estimator.fit(X_train, y_train, **fit_params)\n"
     ]
    }
   ],
   "source": [
    "#applying the k-fold cross validation\n",
    "#best way to find accuracy of model\n",
    "from sklearn.model_selection import cross_val_score\n",
    "accuracy=cross_val_score(estimator=classifier,X=x_train,y=y_train,cv=7)"
   ]
  },
  {
   "cell_type": "code",
   "execution_count": 39,
   "metadata": {
    "execution": {
     "iopub.execute_input": "2021-02-03T07:27:12.983442Z",
     "iopub.status.busy": "2021-02-03T07:27:12.982705Z",
     "iopub.status.idle": "2021-02-03T07:27:12.987661Z",
     "shell.execute_reply": "2021-02-03T07:27:12.987112Z"
    },
    "papermill": {
     "duration": 0.062877,
     "end_time": "2021-02-03T07:27:12.987785",
     "exception": false,
     "start_time": "2021-02-03T07:27:12.924908",
     "status": "completed"
    },
    "tags": []
   },
   "outputs": [
    {
     "data": {
      "text/plain": [
       "0.5343890386343216"
      ]
     },
     "execution_count": 39,
     "metadata": {},
     "output_type": "execute_result"
    }
   ],
   "source": [
    "accuracy.mean()"
   ]
  },
  {
   "cell_type": "code",
   "execution_count": 40,
   "metadata": {
    "execution": {
     "iopub.execute_input": "2021-02-03T07:27:13.093648Z",
     "iopub.status.busy": "2021-02-03T07:27:13.092897Z",
     "iopub.status.idle": "2021-02-03T07:27:13.096454Z",
     "shell.execute_reply": "2021-02-03T07:27:13.095919Z"
    },
    "papermill": {
     "duration": 0.058004,
     "end_time": "2021-02-03T07:27:13.096559",
     "exception": false,
     "start_time": "2021-02-03T07:27:13.038555",
     "status": "completed"
    },
    "tags": []
   },
   "outputs": [],
   "source": [
    "#NAIVE BAYES CLASSIFIER"
   ]
  },
  {
   "cell_type": "code",
   "execution_count": 41,
   "metadata": {
    "execution": {
     "iopub.execute_input": "2021-02-03T07:27:13.224891Z",
     "iopub.status.busy": "2021-02-03T07:27:13.223885Z",
     "iopub.status.idle": "2021-02-03T07:27:13.242014Z",
     "shell.execute_reply": "2021-02-03T07:27:13.241017Z"
    },
    "papermill": {
     "duration": 0.092481,
     "end_time": "2021-02-03T07:27:13.242193",
     "exception": false,
     "start_time": "2021-02-03T07:27:13.149712",
     "status": "completed"
    },
    "tags": []
   },
   "outputs": [
    {
     "name": "stderr",
     "output_type": "stream",
     "text": [
      "/opt/conda/lib/python3.7/site-packages/sklearn/utils/validation.py:73: DataConversionWarning: A column-vector y was passed when a 1d array was expected. Please change the shape of y to (n_samples, ), for example using ravel().\n",
      "  return f(**kwargs)\n"
     ]
    },
    {
     "data": {
      "text/plain": [
       "GaussianNB()"
      ]
     },
     "execution_count": 41,
     "metadata": {},
     "output_type": "execute_result"
    }
   ],
   "source": [
    "#fitting the naive bayes to the training dataset\n",
    "from sklearn.naive_bayes import GaussianNB\n",
    "classifier=GaussianNB()\n",
    "classifier.fit(x_train,y_train)"
   ]
  },
  {
   "cell_type": "code",
   "execution_count": 42,
   "metadata": {
    "execution": {
     "iopub.execute_input": "2021-02-03T07:27:13.365943Z",
     "iopub.status.busy": "2021-02-03T07:27:13.365191Z",
     "iopub.status.idle": "2021-02-03T07:27:13.368684Z",
     "shell.execute_reply": "2021-02-03T07:27:13.369134Z"
    },
    "papermill": {
     "duration": 0.067507,
     "end_time": "2021-02-03T07:27:13.369283",
     "exception": false,
     "start_time": "2021-02-03T07:27:13.301776",
     "status": "completed"
    },
    "tags": []
   },
   "outputs": [],
   "source": [
    "#predicting the test set results\n",
    "y_pred=classifier.predict(x_test)"
   ]
  },
  {
   "cell_type": "code",
   "execution_count": 43,
   "metadata": {
    "execution": {
     "iopub.execute_input": "2021-02-03T07:27:13.497381Z",
     "iopub.status.busy": "2021-02-03T07:27:13.496732Z",
     "iopub.status.idle": "2021-02-03T07:27:13.530089Z",
     "shell.execute_reply": "2021-02-03T07:27:13.530665Z"
    },
    "papermill": {
     "duration": 0.104454,
     "end_time": "2021-02-03T07:27:13.530854",
     "exception": false,
     "start_time": "2021-02-03T07:27:13.426400",
     "status": "completed"
    },
    "tags": []
   },
   "outputs": [
    {
     "name": "stderr",
     "output_type": "stream",
     "text": [
      "/opt/conda/lib/python3.7/site-packages/sklearn/utils/validation.py:73: DataConversionWarning: A column-vector y was passed when a 1d array was expected. Please change the shape of y to (n_samples, ), for example using ravel().\n",
      "  return f(**kwargs)\n",
      "/opt/conda/lib/python3.7/site-packages/sklearn/utils/validation.py:73: DataConversionWarning: A column-vector y was passed when a 1d array was expected. Please change the shape of y to (n_samples, ), for example using ravel().\n",
      "  return f(**kwargs)\n",
      "/opt/conda/lib/python3.7/site-packages/sklearn/utils/validation.py:73: DataConversionWarning: A column-vector y was passed when a 1d array was expected. Please change the shape of y to (n_samples, ), for example using ravel().\n",
      "  return f(**kwargs)\n",
      "/opt/conda/lib/python3.7/site-packages/sklearn/utils/validation.py:73: DataConversionWarning: A column-vector y was passed when a 1d array was expected. Please change the shape of y to (n_samples, ), for example using ravel().\n",
      "  return f(**kwargs)\n",
      "/opt/conda/lib/python3.7/site-packages/sklearn/utils/validation.py:73: DataConversionWarning: A column-vector y was passed when a 1d array was expected. Please change the shape of y to (n_samples, ), for example using ravel().\n",
      "  return f(**kwargs)\n",
      "/opt/conda/lib/python3.7/site-packages/sklearn/utils/validation.py:73: DataConversionWarning: A column-vector y was passed when a 1d array was expected. Please change the shape of y to (n_samples, ), for example using ravel().\n",
      "  return f(**kwargs)\n",
      "/opt/conda/lib/python3.7/site-packages/sklearn/utils/validation.py:73: DataConversionWarning: A column-vector y was passed when a 1d array was expected. Please change the shape of y to (n_samples, ), for example using ravel().\n",
      "  return f(**kwargs)\n"
     ]
    }
   ],
   "source": [
    "#applying the k-fold cross validation\n",
    "#best way to find accuracy of model\n",
    "from sklearn.model_selection import cross_val_score\n",
    "accuracy=cross_val_score(estimator=classifier,X=x_train,y=y_train,cv=7)"
   ]
  },
  {
   "cell_type": "code",
   "execution_count": 44,
   "metadata": {
    "execution": {
     "iopub.execute_input": "2021-02-03T07:27:13.640746Z",
     "iopub.status.busy": "2021-02-03T07:27:13.639721Z",
     "iopub.status.idle": "2021-02-03T07:27:13.645689Z",
     "shell.execute_reply": "2021-02-03T07:27:13.646189Z"
    },
    "papermill": {
     "duration": 0.062419,
     "end_time": "2021-02-03T07:27:13.646340",
     "exception": false,
     "start_time": "2021-02-03T07:27:13.583921",
     "status": "completed"
    },
    "tags": []
   },
   "outputs": [
    {
     "data": {
      "text/plain": [
       "0.5889094788858941"
      ]
     },
     "execution_count": 44,
     "metadata": {},
     "output_type": "execute_result"
    }
   ],
   "source": [
    "accuracy.mean()"
   ]
  },
  {
   "cell_type": "code",
   "execution_count": 45,
   "metadata": {
    "execution": {
     "iopub.execute_input": "2021-02-03T07:27:13.757816Z",
     "iopub.status.busy": "2021-02-03T07:27:13.756710Z",
     "iopub.status.idle": "2021-02-03T07:27:13.760289Z",
     "shell.execute_reply": "2021-02-03T07:27:13.760840Z"
    },
    "papermill": {
     "duration": 0.060595,
     "end_time": "2021-02-03T07:27:13.760987",
     "exception": false,
     "start_time": "2021-02-03T07:27:13.700392",
     "status": "completed"
    },
    "tags": []
   },
   "outputs": [],
   "source": [
    "#DECISION TREE CLASSIFIER"
   ]
  },
  {
   "cell_type": "code",
   "execution_count": 46,
   "metadata": {
    "execution": {
     "iopub.execute_input": "2021-02-03T07:27:13.875301Z",
     "iopub.status.busy": "2021-02-03T07:27:13.874280Z",
     "iopub.status.idle": "2021-02-03T07:27:13.924006Z",
     "shell.execute_reply": "2021-02-03T07:27:13.924936Z"
    },
    "papermill": {
     "duration": 0.110291,
     "end_time": "2021-02-03T07:27:13.925126",
     "exception": false,
     "start_time": "2021-02-03T07:27:13.814835",
     "status": "completed"
    },
    "tags": []
   },
   "outputs": [
    {
     "data": {
      "text/plain": [
       "DecisionTreeClassifier(criterion='entropy', random_state=0)"
      ]
     },
     "execution_count": 46,
     "metadata": {},
     "output_type": "execute_result"
    }
   ],
   "source": [
    "#fitting the decision tree classifier to the training set\n",
    "from sklearn.tree import DecisionTreeClassifier\n",
    "classifier=DecisionTreeClassifier(criterion='entropy',random_state=0)\n",
    "classifier.fit(x_train,y_train)"
   ]
  },
  {
   "cell_type": "code",
   "execution_count": 47,
   "metadata": {
    "execution": {
     "iopub.execute_input": "2021-02-03T07:27:14.042536Z",
     "iopub.status.busy": "2021-02-03T07:27:14.041770Z",
     "iopub.status.idle": "2021-02-03T07:27:14.045514Z",
     "shell.execute_reply": "2021-02-03T07:27:14.044846Z"
    },
    "papermill": {
     "duration": 0.062377,
     "end_time": "2021-02-03T07:27:14.045655",
     "exception": false,
     "start_time": "2021-02-03T07:27:13.983278",
     "status": "completed"
    },
    "tags": []
   },
   "outputs": [],
   "source": [
    "#predicting the test set results\n",
    "y_pred=classifier.predict(x_test)"
   ]
  },
  {
   "cell_type": "code",
   "execution_count": 48,
   "metadata": {
    "execution": {
     "iopub.execute_input": "2021-02-03T07:27:14.160445Z",
     "iopub.status.busy": "2021-02-03T07:27:14.158049Z",
     "iopub.status.idle": "2021-02-03T07:27:14.238153Z",
     "shell.execute_reply": "2021-02-03T07:27:14.237545Z"
    },
    "papermill": {
     "duration": 0.139137,
     "end_time": "2021-02-03T07:27:14.238267",
     "exception": false,
     "start_time": "2021-02-03T07:27:14.099130",
     "status": "completed"
    },
    "tags": []
   },
   "outputs": [],
   "source": [
    "#applying the k-fold cross validation\n",
    "#best way to find accuracy of model\n",
    "from sklearn.model_selection import cross_val_score\n",
    "accuracy=cross_val_score(estimator=classifier,X=x_train,y=y_train,cv=7)"
   ]
  },
  {
   "cell_type": "code",
   "execution_count": 49,
   "metadata": {
    "execution": {
     "iopub.execute_input": "2021-02-03T07:27:14.354142Z",
     "iopub.status.busy": "2021-02-03T07:27:14.353052Z",
     "iopub.status.idle": "2021-02-03T07:27:14.357823Z",
     "shell.execute_reply": "2021-02-03T07:27:14.358399Z"
    },
    "papermill": {
     "duration": 0.06495,
     "end_time": "2021-02-03T07:27:14.358558",
     "exception": false,
     "start_time": "2021-02-03T07:27:14.293608",
     "status": "completed"
    },
    "tags": []
   },
   "outputs": [
    {
     "data": {
      "text/plain": [
       "0.5692834681042228"
      ]
     },
     "execution_count": 49,
     "metadata": {},
     "output_type": "execute_result"
    }
   ],
   "source": [
    "accuracy.mean()"
   ]
  },
  {
   "cell_type": "code",
   "execution_count": 50,
   "metadata": {
    "execution": {
     "iopub.execute_input": "2021-02-03T07:27:14.475693Z",
     "iopub.status.busy": "2021-02-03T07:27:14.474779Z",
     "iopub.status.idle": "2021-02-03T07:27:14.478277Z",
     "shell.execute_reply": "2021-02-03T07:27:14.477597Z"
    },
    "papermill": {
     "duration": 0.063492,
     "end_time": "2021-02-03T07:27:14.478394",
     "exception": false,
     "start_time": "2021-02-03T07:27:14.414902",
     "status": "completed"
    },
    "tags": []
   },
   "outputs": [],
   "source": [
    "#RANDOM FOREST CLASSIFIER"
   ]
  },
  {
   "cell_type": "code",
   "execution_count": 51,
   "metadata": {
    "execution": {
     "iopub.execute_input": "2021-02-03T07:27:14.593006Z",
     "iopub.status.busy": "2021-02-03T07:27:14.592324Z",
     "iopub.status.idle": "2021-02-03T07:27:15.095021Z",
     "shell.execute_reply": "2021-02-03T07:27:15.095483Z"
    },
    "papermill": {
     "duration": 0.562463,
     "end_time": "2021-02-03T07:27:15.095650",
     "exception": false,
     "start_time": "2021-02-03T07:27:14.533187",
     "status": "completed"
    },
    "tags": []
   },
   "outputs": [
    {
     "name": "stderr",
     "output_type": "stream",
     "text": [
      "/opt/conda/lib/python3.7/site-packages/ipykernel_launcher.py:3: DataConversionWarning: A column-vector y was passed when a 1d array was expected. Please change the shape of y to (n_samples,), for example using ravel().\n",
      "  This is separate from the ipykernel package so we can avoid doing imports until\n"
     ]
    },
    {
     "data": {
      "text/plain": [
       "RandomForestClassifier(criterion='entropy', random_state=0)"
      ]
     },
     "execution_count": 51,
     "metadata": {},
     "output_type": "execute_result"
    }
   ],
   "source": [
    "from sklearn.ensemble import RandomForestClassifier\n",
    "classifier=RandomForestClassifier(n_estimators=100,criterion='entropy',random_state=0)\n",
    "classifier.fit(x_train,y_train)"
   ]
  },
  {
   "cell_type": "code",
   "execution_count": 52,
   "metadata": {
    "execution": {
     "iopub.execute_input": "2021-02-03T07:27:15.212490Z",
     "iopub.status.busy": "2021-02-03T07:27:15.211837Z",
     "iopub.status.idle": "2021-02-03T07:27:15.234543Z",
     "shell.execute_reply": "2021-02-03T07:27:15.234011Z"
    },
    "papermill": {
     "duration": 0.083285,
     "end_time": "2021-02-03T07:27:15.234677",
     "exception": false,
     "start_time": "2021-02-03T07:27:15.151392",
     "status": "completed"
    },
    "tags": []
   },
   "outputs": [],
   "source": [
    "#predicting the test set results\n",
    "y_pred=classifier.predict(x_test)"
   ]
  },
  {
   "cell_type": "code",
   "execution_count": 53,
   "metadata": {
    "execution": {
     "iopub.execute_input": "2021-02-03T07:27:15.360945Z",
     "iopub.status.busy": "2021-02-03T07:27:15.359867Z",
     "iopub.status.idle": "2021-02-03T07:27:18.401917Z",
     "shell.execute_reply": "2021-02-03T07:27:18.402485Z"
    },
    "papermill": {
     "duration": 3.111293,
     "end_time": "2021-02-03T07:27:18.402641",
     "exception": false,
     "start_time": "2021-02-03T07:27:15.291348",
     "status": "completed"
    },
    "tags": []
   },
   "outputs": [
    {
     "name": "stderr",
     "output_type": "stream",
     "text": [
      "/opt/conda/lib/python3.7/site-packages/sklearn/model_selection/_validation.py:531: DataConversionWarning: A column-vector y was passed when a 1d array was expected. Please change the shape of y to (n_samples,), for example using ravel().\n",
      "  estimator.fit(X_train, y_train, **fit_params)\n",
      "/opt/conda/lib/python3.7/site-packages/sklearn/model_selection/_validation.py:531: DataConversionWarning: A column-vector y was passed when a 1d array was expected. Please change the shape of y to (n_samples,), for example using ravel().\n",
      "  estimator.fit(X_train, y_train, **fit_params)\n",
      "/opt/conda/lib/python3.7/site-packages/sklearn/model_selection/_validation.py:531: DataConversionWarning: A column-vector y was passed when a 1d array was expected. Please change the shape of y to (n_samples,), for example using ravel().\n",
      "  estimator.fit(X_train, y_train, **fit_params)\n",
      "/opt/conda/lib/python3.7/site-packages/sklearn/model_selection/_validation.py:531: DataConversionWarning: A column-vector y was passed when a 1d array was expected. Please change the shape of y to (n_samples,), for example using ravel().\n",
      "  estimator.fit(X_train, y_train, **fit_params)\n",
      "/opt/conda/lib/python3.7/site-packages/sklearn/model_selection/_validation.py:531: DataConversionWarning: A column-vector y was passed when a 1d array was expected. Please change the shape of y to (n_samples,), for example using ravel().\n",
      "  estimator.fit(X_train, y_train, **fit_params)\n",
      "/opt/conda/lib/python3.7/site-packages/sklearn/model_selection/_validation.py:531: DataConversionWarning: A column-vector y was passed when a 1d array was expected. Please change the shape of y to (n_samples,), for example using ravel().\n",
      "  estimator.fit(X_train, y_train, **fit_params)\n",
      "/opt/conda/lib/python3.7/site-packages/sklearn/model_selection/_validation.py:531: DataConversionWarning: A column-vector y was passed when a 1d array was expected. Please change the shape of y to (n_samples,), for example using ravel().\n",
      "  estimator.fit(X_train, y_train, **fit_params)\n"
     ]
    }
   ],
   "source": [
    "#applying the k-fold cross validation\n",
    "#best way to find accuracy of model\n",
    "from sklearn.model_selection import cross_val_score\n",
    "accuracy=cross_val_score(estimator=classifier,X=x_train,y=y_train,cv=7)"
   ]
  },
  {
   "cell_type": "code",
   "execution_count": 54,
   "metadata": {
    "execution": {
     "iopub.execute_input": "2021-02-03T07:27:18.531407Z",
     "iopub.status.busy": "2021-02-03T07:27:18.530318Z",
     "iopub.status.idle": "2021-02-03T07:27:18.534658Z",
     "shell.execute_reply": "2021-02-03T07:27:18.534126Z"
    },
    "papermill": {
     "duration": 0.071977,
     "end_time": "2021-02-03T07:27:18.534774",
     "exception": false,
     "start_time": "2021-02-03T07:27:18.462797",
     "status": "completed"
    },
    "tags": []
   },
   "outputs": [
    {
     "data": {
      "text/plain": [
       "0.6300819856244385"
      ]
     },
     "execution_count": 54,
     "metadata": {},
     "output_type": "execute_result"
    }
   ],
   "source": [
    "accuracy.mean()"
   ]
  }
 ],
 "metadata": {
  "kernelspec": {
   "display_name": "Python 3",
   "language": "python",
   "name": "python3"
  },
  "language_info": {
   "codemirror_mode": {
    "name": "ipython",
    "version": 3
   },
   "file_extension": ".py",
   "mimetype": "text/x-python",
   "name": "python",
   "nbconvert_exporter": "python",
   "pygments_lexer": "ipython3",
   "version": "3.7.6"
  },
  "papermill": {
   "duration": 210.567361,
   "end_time": "2021-02-03T07:27:18.703031",
   "environment_variables": {},
   "exception": null,
   "input_path": "__notebook__.ipynb",
   "output_path": "__notebook__.ipynb",
   "parameters": {},
   "start_time": "2021-02-03T07:23:48.135670",
   "version": "2.1.0"
  }
 },
 "nbformat": 4,
 "nbformat_minor": 4
}
